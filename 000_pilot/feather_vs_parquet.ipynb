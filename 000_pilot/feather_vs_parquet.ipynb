{
 "cells": [
  {
   "cell_type": "markdown",
   "metadata": {},
   "source": [
    "# Imports"
   ]
  },
  {
   "cell_type": "code",
   "execution_count": 40,
   "metadata": {},
   "outputs": [],
   "source": [
    "import pandas as pd\n",
    "import os\n",
    "import timeit\n",
    "import sys"
   ]
  },
  {
   "cell_type": "code",
   "execution_count": 41,
   "metadata": {},
   "outputs": [
    {
     "name": "stdout",
     "output_type": "stream",
     "text": [
      "Python version: 3.10.12 | packaged by Anaconda, Inc. | (main, Jul  5 2023, 19:01:18) [MSC v.1916 64 bit (AMD64)]\n",
      "Pandas version: 1.4.2\n"
     ]
    }
   ],
   "source": [
    "print(f'Python version: {sys.version}')\n",
    "print(f'Pandas version: {pd.__version__}')\n"
   ]
  },
  {
   "cell_type": "markdown",
   "metadata": {},
   "source": [
    "# Global Variables"
   ]
  },
  {
   "cell_type": "code",
   "execution_count": 42,
   "metadata": {},
   "outputs": [],
   "source": [
    "input_csv_file = \"D:/data/london_crime_by_lsoa.csv\"\n",
    "output_feather_file = \"data/london_crime_by_lsoa.feather\"\n",
    "output_parquet_file = \"data/london_crime_by_lsoa.parquet\""
   ]
  },
  {
   "cell_type": "markdown",
   "metadata": {},
   "source": [
    "# Read the CSV file"
   ]
  },
  {
   "cell_type": "code",
   "execution_count": 43,
   "metadata": {},
   "outputs": [],
   "source": [
    "start_csv = timeit.default_timer()\n",
    "df_csv = pd.read_csv(input_csv_file)\n",
    "stop_csv = timeit.default_timer()\n"
   ]
  },
  {
   "cell_type": "code",
   "execution_count": 44,
   "metadata": {},
   "outputs": [],
   "source": [
    "size_csv_file = os.path.getsize(input_csv_file)"
   ]
  },
  {
   "cell_type": "markdown",
   "metadata": {},
   "source": [
    "# Conversion to Feather"
   ]
  },
  {
   "cell_type": "code",
   "execution_count": 45,
   "metadata": {},
   "outputs": [],
   "source": [
    "df_csv.to_feather(output_feather_file, compression='zstd')"
   ]
  },
  {
   "cell_type": "code",
   "execution_count": 46,
   "metadata": {},
   "outputs": [],
   "source": [
    "start_feather = timeit.default_timer()\n",
    "df_feather = pd.read_feather(output_feather_file)\n",
    "stop_feather = timeit.default_timer()\n"
   ]
  },
  {
   "cell_type": "markdown",
   "metadata": {},
   "source": [
    "## Analysis"
   ]
  },
  {
   "cell_type": "code",
   "execution_count": 47,
   "metadata": {},
   "outputs": [],
   "source": [
    "size_feather_file = os.path.getsize(output_feather_file)"
   ]
  },
  {
   "cell_type": "code",
   "execution_count": 48,
   "metadata": {},
   "outputs": [
    {
     "name": "stdout",
     "output_type": "stream",
     "text": [
      "[INFO] A remarkable 69.4% reduction in file size.\n",
      "[INFO] The time taken to read the Feather file was 2.69 seconds.\n"
     ]
    }
   ],
   "source": [
    "print(\n",
    "    f'[INFO] A remarkable {100*(1-size_feather_file/size_csv_file):.1f}% reduction in file size.')\n",
    "print(\n",
    "    f'[INFO] The time taken to read the Feather file was {stop_feather-start_feather:.2f} seconds.')\n"
   ]
  },
  {
   "cell_type": "markdown",
   "metadata": {},
   "source": [
    "# Conversion to Parquet"
   ]
  },
  {
   "cell_type": "code",
   "execution_count": 49,
   "metadata": {},
   "outputs": [],
   "source": [
    "df_csv.to_parquet(output_parquet_file, compression=\"gzip\")\n"
   ]
  },
  {
   "cell_type": "code",
   "execution_count": 50,
   "metadata": {},
   "outputs": [],
   "source": [
    "start_parquet = timeit.default_timer()\n",
    "df_parquet = pd.read_parquet(output_parquet_file)\n",
    "stop_parquet = timeit.default_timer()\n"
   ]
  },
  {
   "cell_type": "markdown",
   "metadata": {},
   "source": [
    "## Analysis"
   ]
  },
  {
   "cell_type": "code",
   "execution_count": 51,
   "metadata": {},
   "outputs": [],
   "source": [
    "size_parquet_file = os.path.getsize(output_parquet_file)\n"
   ]
  },
  {
   "cell_type": "code",
   "execution_count": 52,
   "metadata": {},
   "outputs": [
    {
     "name": "stdout",
     "output_type": "stream",
     "text": [
      "[INFO] A remarkable 93.6% reduction in file size.\n",
      "[INFO] The time taken to read the Parquet file was 3.09 seconds.\n"
     ]
    }
   ],
   "source": [
    "print(\n",
    "    f'[INFO] A remarkable {100*(1-size_parquet_file/size_csv_file):.1f}% reduction in file size.')\n",
    "print(\n",
    "    f'[INFO] The time taken to read the Parquet file was {stop_parquet-start_parquet:.2f} seconds.')\n"
   ]
  },
  {
   "cell_type": "markdown",
   "metadata": {},
   "source": [
    "# Conclusions"
   ]
  }
 ],
 "metadata": {
  "kernelspec": {
   "display_name": "s_w_py10",
   "language": "python",
   "name": "python3"
  },
  "language_info": {
   "codemirror_mode": {
    "name": "ipython",
    "version": 3
   },
   "file_extension": ".py",
   "mimetype": "text/x-python",
   "name": "python",
   "nbconvert_exporter": "python",
   "pygments_lexer": "ipython3",
   "version": "3.10.12"
  },
  "orig_nbformat": 4
 },
 "nbformat": 4,
 "nbformat_minor": 2
}
